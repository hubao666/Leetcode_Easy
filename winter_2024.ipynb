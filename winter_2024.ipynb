{
 "cells": [
  {
   "cell_type": "markdown",
   "metadata": {},
   "source": [
    "### Dec 28th"
   ]
  },
  {
   "cell_type": "markdown",
   "metadata": {},
   "source": [
    "## 167. Two Sum - Input Array is Sorted (Medium)"
   ]
  },
  {
   "cell_type": "code",
   "execution_count": 3,
   "metadata": {},
   "outputs": [],
   "source": [
    "from typing import List\n",
    "from typing import Optional"
   ]
  },
  {
   "cell_type": "markdown",
   "metadata": {},
   "source": [
    "We need two indices(pointers). One starts at the beginning, moving to the right, and another one starts from the end, moving to the left.\n",
    "\n",
    "While the left pointer is on the left of right pointer:\n",
    "- Sum up the values of two pointers and compare it with target.\n",
    "  - if the sum if larger, move the left pointer to right \n",
    "  - if the sum is less, move the right pointer to left\n",
    "  - if sum euquals to the target, then return two indices"
   ]
  },
  {
   "cell_type": "markdown",
   "metadata": {},
   "source": [
    "python:"
   ]
  },
  {
   "cell_type": "code",
   "execution_count": 2,
   "metadata": {},
   "outputs": [],
   "source": [
    "class Solution:\n",
    "    def twoSum(self, numbers: List[int], target: int) -> List[int]:\n",
    "        if not numbers:\n",
    "            return None\n",
    "        i = 0\n",
    "        j = len(numbers) - 1\n",
    "        while i < j:\n",
    "            sum = numbers[i] + numbers[j]\n",
    "\n",
    "            if sum == target:\n",
    "                return [i + 1, j + 1]\n",
    "            elif sum < target:\n",
    "                i += 1\n",
    "            else:\n",
    "                j -= 1\n",
    "        \n",
    "        return None\n",
    "        "
   ]
  },
  {
   "cell_type": "markdown",
   "metadata": {},
   "source": [
    "C++"
   ]
  },
  {
   "cell_type": "code",
   "execution_count": null,
   "metadata": {},
   "outputs": [],
   "source": [
    "class Solution {\n",
    "public:\n",
    "    vector<int> twoSum(vector<int>& numbers, int target) {\n",
    "        if (numbers.empty()){\n",
    "            return {};\n",
    "        }\n",
    "        vector <int> result;\n",
    "        int i = 0;\n",
    "        int j = numbers.size() - 1;\n",
    "        while (i < j){\n",
    "            int sum = numbers[i] + numbers[j];\n",
    "            if (sum == target){\n",
    "                result.push_back(i + 1);\n",
    "                result.push_back(j + 1);\n",
    "                return result;\n",
    "            }else if (sum < target){\n",
    "                i ++;\n",
    "            }else {\n",
    "                j --;\n",
    "            }\n",
    "        }\n",
    "\n",
    "        return {};\n",
    "    }\n",
    "};"
   ]
  },
  {
   "cell_type": "markdown",
   "metadata": {},
   "source": [
    "## 21. Merge Two Sorted Lists (Easy)"
   ]
  },
  {
   "cell_type": "markdown",
   "metadata": {},
   "source": [
    "We need two variables, one is the dummy variable that is the head of the merged list, and the another variable `cur` is the current node in the merged list.\n"
   ]
  },
  {
   "cell_type": "markdown",
   "metadata": {},
   "source": [
    "python"
   ]
  },
  {
   "cell_type": "code",
   "execution_count": null,
   "metadata": {},
   "outputs": [],
   "source": [
    "# Definition for singly-linked list.\n",
    "class ListNode:\n",
    "    def __init__(self, val=0, next=None):\n",
    "        self.val = val\n",
    "        self.next = next\n"
   ]
  },
  {
   "cell_type": "code",
   "execution_count": null,
   "metadata": {},
   "outputs": [],
   "source": [
    "\n",
    "class Solution:\n",
    "    def mergeTwoLists(self, list1: Optional[ListNode], list2: Optional[ListNode]) -> Optional[ListNode]:\n",
    "        dummy = cur = ListNode()\n",
    "        \n",
    "        while list1 and list2:\n",
    "            if list1.val < list2.val:\n",
    "                cur.next = list1 \n",
    "                list1 = list1.next\n",
    "                cur = cur.next # `cur = list1` is the same\n",
    "            else:\n",
    "                cur.next = list2\n",
    "                list2 = list2.next\n",
    "                cur = cur.next\n",
    "        \n",
    "        if list1:\n",
    "            cur.next = list1\n",
    "            list1 = list1.next\n",
    "        elif list2:\n",
    "            cur.next = list2\n",
    "            list2 = list2.next\n",
    "        return dummy.next"
   ]
  },
  {
   "cell_type": "markdown",
   "metadata": {},
   "source": [
    "C++\n"
   ]
  },
  {
   "cell_type": "code",
   "execution_count": null,
   "metadata": {},
   "outputs": [],
   "source": [
    "// Definition for singly-linked list.\n",
    " * struct ListNode {\n",
    " *     int val;\n",
    " *     ListNode *next;\n",
    " *     ListNode() : val(0), next(nullptr) {}\n",
    " *     ListNode(int x) : val(x), next(nullptr) {}\n",
    " *     ListNode(int x, ListNode *next) : val(x), next(next) {}\n",
    " * };\n"
   ]
  },
  {
   "cell_type": "code",
   "execution_count": null,
   "metadata": {},
   "outputs": [],
   "source": [
    "class Solution {\n",
    "public:\n",
    "    ListNode* mergeTwoLists(ListNode* list1, ListNode* list2) {\n",
    "        ListNode* dummy = new ListNode();\n",
    "        ListNode* cur = dummy;\n",
    "\n",
    "        while (list1 && list2){\n",
    "            if (list1->val < list2->val){\n",
    "                cur->next = list1;\n",
    "                list1 = list1->next;\n",
    "                cur = cur->next;\n",
    "            }else{\n",
    "                cur->next = list2;\n",
    "                list2 = list2->next;\n",
    "                cur = cur->next;\n",
    "            }\n",
    "        }\n",
    "        if (list1){\n",
    "            cur->next = list1;\n",
    "            list1 = list1->next;\n",
    "        }else if (list2){\n",
    "            cur->next = list2;\n",
    "            list2 = list2->next;\n",
    "        }\n",
    "        return dummy->next;\n",
    "    }\n",
    "};"
   ]
  },
  {
   "cell_type": "markdown",
   "metadata": {},
   "source": [
    "### Jan 1st"
   ]
  },
  {
   "cell_type": "markdown",
   "metadata": {},
   "source": [
    "## 26. Remove Dulplicate from Sorted Array"
   ]
  },
  {
   "cell_type": "markdown",
   "metadata": {},
   "source": [
    "we use two pointers:\n",
    "- `i` iterates over the array\n",
    "- `j` keep track of unique element, by comparing with i\n",
    "  Both pointers start at beginning, we could also start at the second element (index 1) since the first element is always unique"
   ]
  },
  {
   "cell_type": "markdown",
   "metadata": {},
   "source": [
    "python"
   ]
  },
  {
   "cell_type": "code",
   "execution_count": null,
   "metadata": {},
   "outputs": [],
   "source": [
    "class Solution:\n",
    "    def removeDuplicates(self, nums: List[int]) -> int:\n",
    "        j = 0\n",
    "        for i in range (0, len(nums)):\n",
    "            if nums[i] != nums[j]: # when find the first new element\n",
    "                j += 1\n",
    "                nums[j] = nums[i]\n",
    "        return j + 1"
   ]
  },
  {
   "cell_type": "markdown",
   "metadata": {},
   "source": [
    "C ++"
   ]
  },
  {
   "cell_type": "code",
   "execution_count": null,
   "metadata": {},
   "outputs": [],
   "source": [
    "class Solution {\n",
    "public:\n",
    "    int removeDuplicates(vector<int>& nums) {\n",
    "        int j = 0;\n",
    "        for (int i = 0; i < nums.size(); i ++){\n",
    "            if (nums[i] != nums[j]){\n",
    "                j ++;\n",
    "                nums[j] = nums[i];\n",
    "            }\n",
    "        }\n",
    "        return j + 1;\n",
    "    }\n",
    "};"
   ]
  },
  {
   "cell_type": "markdown",
   "metadata": {},
   "source": [
    "## 27. Remove Element"
   ]
  },
  {
   "cell_type": "markdown",
   "metadata": {},
   "source": [
    "Same. two pointers\n",
    "- `i` iterates the array\n",
    "- `j` is updated when `i`'s value is not `val`"
   ]
  },
  {
   "cell_type": "markdown",
   "metadata": {},
   "source": [
    "python"
   ]
  },
  {
   "cell_type": "code",
   "execution_count": null,
   "metadata": {},
   "outputs": [],
   "source": [
    "class Solution:\n",
    "    def removeElement(self, nums: List[int], val: int) -> int:\n",
    "        j = 0 \n",
    "        for i in range(0, len(nums)):\n",
    "            if nums[i] != val:\n",
    "                nums[j] = nums[i]            \n",
    "                j += 1\n",
    "        return j"
   ]
  },
  {
   "cell_type": "markdown",
   "metadata": {},
   "source": [
    "C ++"
   ]
  },
  {
   "cell_type": "code",
   "execution_count": null,
   "metadata": {},
   "outputs": [],
   "source": [
    "class Solution {\n",
    "public:\n",
    "    int removeElement(vector<int>& nums, int val) {\n",
    "        int j = 0;\n",
    "        for (int i = 0; i < nums.size(); i ++){\n",
    "            if (nums[i] != val){\n",
    "                nums[j] = nums[i];\n",
    "                j ++;\n",
    "            }\n",
    "        }\n",
    "        return j;\n",
    "    }\n",
    "};"
   ]
  },
  {
   "cell_type": "markdown",
   "metadata": {},
   "source": [
    "### Jan 2nd\n",
    "## 28. Find the Index of the First Occurrence in a String"
   ]
  },
  {
   "cell_type": "markdown",
   "metadata": {},
   "source": [
    "Use sliding window"
   ]
  },
  {
   "cell_type": "markdown",
   "metadata": {},
   "source": [
    "python\n",
    "- implementation of `indexOf()` function\n",
    "- `return haystack.indexOf(needle)`"
   ]
  },
  {
   "cell_type": "code",
   "execution_count": null,
   "metadata": {},
   "outputs": [],
   "source": [
    "class Solution:\n",
    "    def strStr(self, haystack: str, needle: str) -> int:\n",
    "        a = len(haystack)\n",
    "        b = len(needle)\n",
    "        if a < b:\n",
    "            return -1\n",
    "        for i in range(a - b + 1):\n",
    "            if haystack[i:i + b] == needle:\n",
    "                return i\n",
    "        return -1"
   ]
  },
  {
   "cell_type": "markdown",
   "metadata": {},
   "source": [
    "C ++\n",
    "- implementation of `find()` function\n",
    "- `return haystack.find(needle);`"
   ]
  },
  {
   "cell_type": "code",
   "execution_count": null,
   "metadata": {},
   "outputs": [],
   "source": [
    "class Solution {\n",
    "public:\n",
    "    int strStr(string haystack, string needle) {\n",
    "        int a = haystack.length();\n",
    "        int b = needle.length();\n",
    "        if (a < b){\n",
    "            return -1;\n",
    "        }\n",
    "        for (int i = 0; i < a - b + 1; i ++){\n",
    "            if (haystack.substr(i, b) == needle){\n",
    "                return i;\n",
    "            }\n",
    "        }\n",
    "        return -1;\n",
    "    }\n",
    "};"
   ]
  },
  {
   "cell_type": "markdown",
   "metadata": {},
   "source": [
    "## 35. Search Insert Position\n",
    "Given a sorted array of distinct integers and a target value, return the index if the target is found. If not, return the index where it would be if it were inserted in order."
   ]
  },
  {
   "cell_type": "markdown",
   "metadata": {},
   "source": [
    "python"
   ]
  },
  {
   "cell_type": "code",
   "execution_count": null,
   "metadata": {},
   "outputs": [],
   "source": [
    "class Solution:\n",
    "    def searchInsert(self, nums: List[int], target: int) -> int:\n",
    "        for i in range(len(nums)):\n",
    "            if nums[i] == target:\n",
    "                return i\n",
    "            if nums[i] > target:\n",
    "                return i \n",
    "        return len(nums)"
   ]
  },
  {
   "cell_type": "code",
   "execution_count": null,
   "metadata": {},
   "outputs": [],
   "source": [
    "# using binary search\n",
    "class Solution:\n",
    "    def search_insert(nums, target):\n",
    "        low, high = 0, len(nums) - 1\n",
    "\n",
    "        while low <= high:\n",
    "            mid = (low + high) // 2\n",
    "\n",
    "            if nums[mid] == target:\n",
    "                return mid  # Target found\n",
    "            elif nums[mid] < target:\n",
    "                low = mid + 1  # Adjust low pointer\n",
    "            else:\n",
    "                high = mid - 1  # Adjust high pointer\n",
    "\n",
    "        return low  # Return the index for insertion position\n"
   ]
  },
  {
   "cell_type": "markdown",
   "metadata": {},
   "source": [
    "C ++"
   ]
  },
  {
   "cell_type": "code",
   "execution_count": null,
   "metadata": {},
   "outputs": [],
   "source": [
    "class Solution {\n",
    "public:\n",
    "    int searchInsert(vector<int>& nums, int target) {\n",
    "        for (int i = 0; i < nums.size(); i ++){\n",
    "            if (nums[i] == target){\n",
    "                return i;\n",
    "            }\n",
    "            if (nums[i] > target){\n",
    "                return i;\n",
    "            }\n",
    "        }\n",
    "        return nums.size();\n",
    "    }\n",
    "};"
   ]
  },
  {
   "cell_type": "markdown",
   "metadata": {},
   "source": [
    "### Jan 4th \n",
    "Starting from today, I will mark the `yeee` after question's title if I finish it totally by myself\n",
    "\n",
    "`yee` if used `ChatGPT` for grammar or simple logical help\n",
    "## 58. Length of Last Word (yeee)\n",
    "Given a string `s` consisting of words and spaces, return the length of the last word in the string.\n",
    "\n",
    "1. Iterate from the end to the beginning. \n",
    "2. use `flag` to mark if we have entered a word (or we are still in `space`)\n",
    "\n",
    "python"
   ]
  },
  {
   "cell_type": "code",
   "execution_count": null,
   "metadata": {},
   "outputs": [],
   "source": [
    "class Solution:\n",
    "    def lengthOfLastWord(self, s: str) -> int:\n",
    "        flag = 0\n",
    "        count = 0\n",
    "        for i in range(len(s) - 1, -1, -1):\n",
    "            if s[i] == ' ':\n",
    "                if flag == 0:\n",
    "                    continue\n",
    "                else:\n",
    "                    break\n",
    "            else:\n",
    "                flag = 1\n",
    "                count += 1\n",
    "        return count"
   ]
  },
  {
   "cell_type": "code",
   "execution_count": null,
   "metadata": {},
   "outputs": [],
   "source": [
    "# answer from leetcode:\n",
    "class Solution:\n",
    "    def lengthOfLastWord(self, s: str) -> int:\n",
    "        # return len(s.rstrip().split()[-1])\n",
    "        return len(s.split()[-1])"
   ]
  },
  {
   "cell_type": "markdown",
   "metadata": {},
   "source": [
    "C ++"
   ]
  },
  {
   "cell_type": "code",
   "execution_count": null,
   "metadata": {},
   "outputs": [],
   "source": [
    "class Solution {\n",
    "public:\n",
    "    int lengthOfLastWord(string s) {\n",
    "        int flag = 0;\n",
    "        int count = 0;\n",
    "        for (int i = s.length() - 1; i >= 0; i --){\n",
    "            if (s[i] == ' '){\n",
    "                if (flag == 0){\n",
    "                    continue;\n",
    "                }else{\n",
    "                    break;\n",
    "                }\n",
    "            }else{\n",
    "                flag = 1;\n",
    "                count ++;\n",
    "            }\n",
    "        }\n",
    "        return count;\n",
    "    }\n",
    "};"
   ]
  },
  {
   "cell_type": "markdown",
   "metadata": {},
   "source": [
    "## 66. Plus One (yee)\n",
    "You are given a large integer represented as an integer array digits, where each digits[i] is the ith digit of the integer. The digits are ordered from most significant to least significant in left-to-right order. The large integer does not contain any leading 0's.\n",
    "\n",
    "Increment the large integer by one and return the resulting array of digits."
   ]
  },
  {
   "cell_type": "markdown",
   "metadata": {},
   "source": [
    "I didn't convert the array to numerical value correctly. AI was used to correct it"
   ]
  },
  {
   "cell_type": "markdown",
   "metadata": {},
   "source": [
    "python"
   ]
  },
  {
   "cell_type": "code",
   "execution_count": null,
   "metadata": {},
   "outputs": [],
   "source": [
    "class Solution:\n",
    "    def plusOne(self, digits: List[int]) -> List[int]:\n",
    "        # convert the array of digits to numerical value\n",
    "        length = len(digits)\n",
    "        num_val = 0\n",
    "        for i in range(length):\n",
    "            num_val += digits[i] * 10 ** (length - 1)\n",
    "            length -= 1\n",
    "        # increase by 1\n",
    "        num_val += 1\n",
    "        # convert back to array of digits\n",
    "        str_num_dig = str(num_val)\n",
    "        num_digits = len(str_num_dig)\n",
    "        incremented_digits = []\n",
    "        for i in range(num_digits):\n",
    "            incremented_digits.append(int(str_num_dig[i]))\n",
    "        return incremented_digits"
   ]
  },
  {
   "cell_type": "markdown",
   "metadata": {},
   "source": [
    "C ++ \n",
    "\n",
    "Incorrect. don't know how to do."
   ]
  },
  {
   "cell_type": "code",
   "execution_count": null,
   "metadata": {},
   "outputs": [],
   "source": [
    "class Solution {\n",
    "public:\n",
    "    vector<int> plusOne(vector<int>& digits) {\n",
    "        int length = digits.size();\n",
    "        double num_val = 0;\n",
    "        for (int i = 0; i < length; i ++){\n",
    "            num_val += digits[i] * pow(10, length - 1);\n",
    "            length --;\n",
    "        }\n",
    "        num_val ++;\n",
    "        int num_val_int = static_cast<int>(num_val);\n",
    "        string str_num_dig = to_string(num_val_int);\n",
    "        int num_digits = str_num_dig.length();\n",
    "        vector<int> incremented_digits;\n",
    "        for (int i = 0; i < num_digits; i ++){\n",
    "            incremented_digits.push_back(str_num_dig[i] - '0');\n",
    "        }\n",
    "        return incremented_digits;\n",
    "    }\n",
    "};"
   ]
  },
  {
   "cell_type": "markdown",
   "metadata": {},
   "source": [
    "### Jan 6th\n",
    "## 67. Add Binary\n",
    "Given two binary strings a and b, return their sum as a binary string.\n",
    "\n",
    "python"
   ]
  },
  {
   "cell_type": "code",
   "execution_count": null,
   "metadata": {},
   "outputs": [],
   "source": [
    "class Solution:\n",
    "    def addBinary(self, a: str, b: str) -> str:\n",
    "        result = ''\n",
    "        carry = 0\n",
    "        i = len(a) - 1\n",
    "        j = len(b) - 1\n",
    "        while i >= 0 or j >= 0 or carry != 0:\n",
    "            if i >= 0:\n",
    "                carry += int(a[i])\n",
    "                i -= 1\n",
    "            if j >= 0:\n",
    "                carry += int(b[j])\n",
    "                j -= 1\n",
    "            digit = carry % 2\n",
    "            result = str(digit) + result\n",
    "            carry = carry // 2\n",
    "        return result\n"
   ]
  },
  {
   "cell_type": "markdown",
   "metadata": {},
   "source": [
    "C++"
   ]
  },
  {
   "cell_type": "code",
   "execution_count": null,
   "metadata": {},
   "outputs": [
    {
     "data": {
      "text/plain": [
       "0"
      ]
     },
     "execution_count": 8,
     "metadata": {},
     "output_type": "execute_result"
    }
   ],
   "source": [
    "class Solution {\n",
    "public:\n",
    "    string addBinary(string a, string b) {\n",
    "        string result;\n",
    "        int carry = 0;\n",
    "        int i = a.length() - 1;\n",
    "        int j = b.length() - 1;\n",
    "        int digit = 0;\n",
    "        while (i >= 0 || j >= 0 || carry != 0){\n",
    "            if (i >= 0){\n",
    "                carry += (a[i] - '0');\n",
    "                i --;\n",
    "            }\n",
    "            if (j >= 0){\n",
    "                carry += (b[j] - '0');\n",
    "                j --;\n",
    "            }\n",
    "            digit = carry % 2;\n",
    "            result = to_string(digit) + result;\n",
    "            carry = carry / 2;\n",
    "        }\n",
    "        return result;\n",
    "    }\n",
    "};"
   ]
  },
  {
   "cell_type": "markdown",
   "metadata": {},
   "source": [
    "## 69. Sqrt(x)\n",
    "Given a non-negative integer x, return the square root of x rounded down to the nearest integer. The returned integer should be non-negative as well.\n",
    "\n",
    "You must not use any built-in exponent function or operator.\n",
    "\n",
    "use binary search\n",
    "- high is the given number\n",
    "- low is 1, it can't be 0 because it will cause mid equal 0 if x is 1\n",
    "  \n",
    "python"
   ]
  },
  {
   "cell_type": "code",
   "execution_count": null,
   "metadata": {},
   "outputs": [],
   "source": [
    "class Solution:\n",
    "    def mySqrt(self, x: int) -> int:\n",
    "        if x == 0:\n",
    "            return 0\n",
    "        low = 1\n",
    "        high = x\n",
    "        while low <= high:\n",
    "            mid = low + (high - low) // 2\n",
    "            if mid == x // mid:\n",
    "                return mid\n",
    "            if mid > x // mid:\n",
    "                high = mid - 1\n",
    "            else:\n",
    "                low = mid + 1\n",
    "        return high"
   ]
  },
  {
   "cell_type": "markdown",
   "metadata": {},
   "source": [
    "C++"
   ]
  },
  {
   "cell_type": "code",
   "execution_count": null,
   "metadata": {},
   "outputs": [],
   "source": [
    "class Solution {\n",
    "public:\n",
    "    int mySqrt(int x) {\n",
    "        if (x == 0){\n",
    "            return 0;\n",
    "        }\n",
    "        int low = 1;\n",
    "        int high = x;\n",
    "        int mid = 0;\n",
    "        while (low <= high){\n",
    "            mid = low + (high - low) / 2;\n",
    "            if (mid == x / mid){\n",
    "                return mid;\n",
    "            }\n",
    "            if (mid > x / mid){\n",
    "                high = mid - 1;\n",
    "            }else{\n",
    "                low = mid + 1;\n",
    "            }\n",
    "        }\n",
    "        return high;\n",
    "    }\n",
    "};"
   ]
  },
  {
   "cell_type": "markdown",
   "metadata": {},
   "source": [
    "### Jan 7th\n",
    "## 70. Climbing Stairs \n",
    "(read discussion and used AI for caching)\n",
    "\n",
    "You are climbing a staircase. It takes n steps to reach the top.\n",
    "\n",
    "Each time you can either climb 1 or 2 steps. In how many distinct ways can you climb to the top?\n",
    "\n",
    "python"
   ]
  },
  {
   "cell_type": "code",
   "execution_count": null,
   "metadata": {},
   "outputs": [],
   "source": [
    "class Solution:\n",
    "    def climbStairs(self, n: int) -> int:\n",
    "        cache_dic = {}\n",
    "        def climb(n):\n",
    "            # base case\n",
    "            if n in cache_dic:\n",
    "                return cache_dic[n]\n",
    "            if n == 0:\n",
    "                return 0 \n",
    "            if n == 1:\n",
    "                return 1\n",
    "            if n == 2:\n",
    "                return 2     \n",
    "            \n",
    "            result =  climb(n - 1) + climb(n - 2)\n",
    "            cache_dic[n] = result\n",
    "            return result\n",
    "        return climb(n)"
   ]
  },
  {
   "cell_type": "markdown",
   "metadata": {},
   "source": [
    "C++"
   ]
  },
  {
   "cell_type": "code",
   "execution_count": null,
   "metadata": {},
   "outputs": [],
   "source": [
    "class Solution {\n",
    "public:\n",
    "    int climbStairs(int n, unordered_map<int, int>& cache_dic) {\n",
    "        // base case \n",
    "        if (cache_dic.count(n) > 0){\n",
    "            return cache_dic[n];\n",
    "        }\n",
    "        if (n == 0){\n",
    "            return 0;\n",
    "        }\n",
    "        if (n == 1){\n",
    "            return 1;\n",
    "        }\n",
    "        if (n == 2){\n",
    "            return 2;\n",
    "        }\n",
    "        // recursion\n",
    "        int result = climbStairs(n - 1, cache_dic) + climbStairs(n - 2, cache_dic);\n",
    "        cache_dic[n] = result;\n",
    "        return result;\n",
    "    }\n",
    "};"
   ]
  },
  {
   "cell_type": "markdown",
   "metadata": {},
   "source": [
    "### Jan 8th\n",
    "## 83. Remove Duplicates from Sorted List\n",
    "Given the `head` of a sorted linked list, delete all duplicates such that each element appears only once. Return the linked list sorted as well."
   ]
  },
  {
   "cell_type": "markdown",
   "metadata": {},
   "source": [
    "python"
   ]
  },
  {
   "cell_type": "code",
   "execution_count": null,
   "metadata": {},
   "outputs": [],
   "source": [
    "# Definition for singly-linked list.\n",
    "class ListNode:\n",
    "    def __init__(self, val=0, next=None):\n",
    "        self.val = val\n",
    "        self.next = next\n"
   ]
  },
  {
   "cell_type": "code",
   "execution_count": null,
   "metadata": {},
   "outputs": [],
   "source": [
    "class Solution:\n",
    "    def deleteDuplicates(self, head: Optional[ListNode]) -> Optional[ListNode]:\n",
    "        # when there is no element or only one element\n",
    "        if not head or not head.next:\n",
    "            return head\n",
    "        \n",
    "        current = head\n",
    "        while current.next:\n",
    "            if current.val == current.next.val:\n",
    "                current.next = current.next.next\n",
    "            else:\n",
    "                current = current.next\n",
    "        return head\n"
   ]
  },
  {
   "cell_type": "markdown",
   "metadata": {},
   "source": [
    "C++"
   ]
  },
  {
   "cell_type": "code",
   "execution_count": null,
   "metadata": {},
   "outputs": [],
   "source": [
    "struct ListNode {\n",
    "    int val;\n",
    "    ListNode *next;\n",
    "    ListNode() : val(0), next(nullptr) {}\n",
    "    ListNode(int x) : val(x), next(nullptr) {}\n",
    "    ListNode(int x, ListNode *next) : val(x), next(next) {}\n",
    "};"
   ]
  },
  {
   "cell_type": "code",
   "execution_count": null,
   "metadata": {},
   "outputs": [],
   "source": [
    "class Solution {\n",
    "public:\n",
    "    ListNode* deleteDuplicates(ListNode* head) {\n",
    "        if (head == nullptr || head->next == nullptr){\n",
    "            return head;\n",
    "        }\n",
    "        ListNode* cur = head;\n",
    "        while (cur->next != nullptr){\n",
    "            if (cur->val == cur->next->val){\n",
    "                cur->next = cur->next->next;\n",
    "            }else{\n",
    "                cur = cur->next;\n",
    "            }\n",
    "        }\n",
    "        return head;\n",
    "    }\n",
    "};"
   ]
  },
  {
   "cell_type": "markdown",
   "metadata": {},
   "source": [
    "## 88. Merge Sorted Array (yeee, read hint)\n",
    "You are given two integer arrays nums1 and nums2, sorted in non-decreasing order, and two integers m and n, representing the number of elements in nums1 and nums2 respectively.\n",
    "\n",
    "Merge nums1 and nums2 into a single array sorted in non-decreasing order.\n",
    "\n",
    "The final sorted array should not be returned by the function, but instead be stored inside the array nums1. To accommodate this, nums1 has a length of m + n, where the first m elements denote the elements that should be merged, and the last n elements are set to 0 and should be ignored. nums2 has a length of n.\n",
    "\n",
    "python"
   ]
  },
  {
   "cell_type": "code",
   "execution_count": null,
   "metadata": {},
   "outputs": [],
   "source": [
    "class Solution:\n",
    "    def merge(self, nums1: List[int], m: int, nums2: List[int], n: int) -> None:\n",
    "        \"\"\"\n",
    "        Do not return anything, modify nums1 in-place instead.\n",
    "        \"\"\"\n",
    "        # if there is nothing in the first array nums1, \n",
    "        # copy everthing from nums2 to nums1\n",
    "        if m == 0:\n",
    "            for i in range(n):\n",
    "                nums1[i] = nums2[i]\n",
    "            return\n",
    "        \n",
    "        # iterate from the back to front\n",
    "        i = m - 1\n",
    "        j = n - 1\n",
    "        k = len(nums1) - 1\n",
    "        while i >= 0 and j >= 0:\n",
    "            if nums1[i] < nums2[j]:\n",
    "                nums1[k] = nums2[j]\n",
    "                j -= 1\n",
    "            else:\n",
    "                nums1[k] = nums1[i]\n",
    "                i -= 1\n",
    "            k -= 1\n",
    "        \n",
    "        # copy remaining element from nums2 to nums1\n",
    "        if j >= 0:\n",
    "            for a in range(j + 1):\n",
    "                nums1[a] = nums2[a]\n",
    "\n",
    "        return"
   ]
  },
  {
   "cell_type": "markdown",
   "metadata": {},
   "source": [
    "C++"
   ]
  },
  {
   "cell_type": "code",
   "execution_count": null,
   "metadata": {},
   "outputs": [],
   "source": [
    "class Solution {\n",
    "public:\n",
    "    void merge(vector<int>& nums1, int m, vector<int>& nums2, int n) {\n",
    "        if (m == 0){\n",
    "            for (int i = 0; i < n; i++){\n",
    "                nums1[i] = nums2[i];\n",
    "            }\n",
    "            return;\n",
    "        }\n",
    "        int i = m - 1;\n",
    "        int j = n - 1;\n",
    "        int k = nums1.size() - 1;\n",
    "        while (i >= 0 && j >= 0){\n",
    "            if (nums1[i] < nums2[j]){\n",
    "                nums1[k] = nums2[j];\n",
    "                j --;\n",
    "            }else{\n",
    "                nums1[k] = nums1[i];\n",
    "                i --;\n",
    "            }\n",
    "            k --;\n",
    "        }\n",
    "        if (j >= 0){\n",
    "            for (int i = 0; i < j + 1; i ++){\n",
    "                nums1[i] = nums2[i];\n",
    "            }\n",
    "        }\n",
    "        return;\n",
    "    }\n",
    "};"
   ]
  },
  {
   "cell_type": "markdown",
   "metadata": {},
   "source": [
    "### Jan 9th\n",
    "## 94. Binary Tree Inorder Traversal\n",
    "Given the root of a binary tree, return the inorder traversal of its nodes' values.\n",
    "\n",
    "python"
   ]
  },
  {
   "cell_type": "code",
   "execution_count": null,
   "metadata": {},
   "outputs": [],
   "source": [
    "# Definition for a binary tree node.\n",
    "class TreeNode:\n",
    "    def __init__(self, val=0, left=None, right=None):\n",
    "        self.val = val\n",
    "        self.left = left\n",
    "        self.right = right\n"
   ]
  },
  {
   "cell_type": "code",
   "execution_count": null,
   "metadata": {},
   "outputs": [],
   "source": [
    "class Solution:\n",
    "    def inorderTraversal(self, root: Optional[TreeNode]) -> List[int]:\n",
    "        result = []\n",
    "        def inorder(node):\n",
    "            if not node:\n",
    "                return []\n",
    "            inorder(node.left)\n",
    "            result.append(node.val)\n",
    "            inorder(node.right)\n",
    "        inorder(root)\n",
    "        return result\n"
   ]
  },
  {
   "cell_type": "markdown",
   "metadata": {},
   "source": [
    "or"
   ]
  },
  {
   "cell_type": "code",
   "execution_count": null,
   "metadata": {},
   "outputs": [],
   "source": [
    "class Solution:\n",
    "    def inorder(self, node, result):\n",
    "        if not node:\n",
    "            return []\n",
    "        self.inorder(node.left, result)\n",
    "        result.append(node.val)\n",
    "        self.inorder(node.right, result)\n",
    "\n",
    "    def inorderTraversal(self, root: Optional[TreeNode]) -> List[int]:\n",
    "        result = []\n",
    "        self.inorder(root, result)\n",
    "        return result"
   ]
  },
  {
   "cell_type": "markdown",
   "metadata": {},
   "source": [
    "Do it with a stack (not recursive)"
   ]
  },
  {
   "cell_type": "code",
   "execution_count": null,
   "metadata": {},
   "outputs": [],
   "source": [
    "class Solution:\n",
    "    def inorderTraversal(self, root: Optional[TreeNode]) -> List[int]:\n",
    "        result = []\n",
    "        stack = []\n",
    "        cur = root\n",
    "        if not root:\n",
    "            return []\n",
    "        while cur or stack:\n",
    "            if cur:\n",
    "                stack.append(cur)\n",
    "                cur = cur.left\n",
    "            else:\n",
    "                cur = stack.pop()\n",
    "                result.append(cur.val)\n",
    "                cur = cur.right\n",
    "        return result\n"
   ]
  },
  {
   "cell_type": "markdown",
   "metadata": {},
   "source": [
    "C++"
   ]
  },
  {
   "cell_type": "code",
   "execution_count": null,
   "metadata": {},
   "outputs": [],
   "source": [
    "/**\n",
    " * Definition for a binary tree node.\n",
    " * struct TreeNode {\n",
    " *     int val;\n",
    " *     TreeNode *left;\n",
    " *     TreeNode *right;\n",
    " *     TreeNode() : val(0), left(nullptr), right(nullptr) {}\n",
    " *     TreeNode(int x) : val(x), left(nullptr), right(nullptr) {}\n",
    " *     TreeNode(int x, TreeNode *left, TreeNode *right) : val(x), left(left), right(right) {}\n",
    " * };\n",
    " */\n",
    "class Solution {\n",
    "public:\n",
    "    vector<int> inorderTraversal(TreeNode* root) {\n",
    "        vector<int> result;\n",
    "        inorder(root, result);\n",
    "        return result;\n",
    "    }\n",
    "    vector<int> inorder(TreeNode* node, vector<int>& result){\n",
    "        if (node == nullptr){\n",
    "            return std::vector<int>();\n",
    "        }\n",
    "        inorder(node->left, result);\n",
    "        result.push_back(node->val);\n",
    "        inorder(node->right, result);\n",
    "        return result;\n",
    "    }\n",
    "};"
   ]
  },
  {
   "cell_type": "markdown",
   "metadata": {},
   "source": [
    "### Jan 10\n",
    "## 100. Same Tree\n",
    "Given the roots of two binary trees p and q, write a function to check if they are the same or not.\n",
    "\n",
    "Two binary trees are considered the same if they are structurally identical, and the nodes have the same value."
   ]
  },
  {
   "cell_type": "markdown",
   "metadata": {},
   "source": [
    "python"
   ]
  },
  {
   "cell_type": "code",
   "execution_count": null,
   "metadata": {},
   "outputs": [],
   "source": [
    "# Definition for a binary tree node.\n",
    "class TreeNode:\n",
    "    def __init__(self, val=0, left=None, right=None):\n",
    "        self.val = val\n",
    "        self.left = left\n",
    "        self.right = right\n"
   ]
  },
  {
   "cell_type": "code",
   "execution_count": null,
   "metadata": {},
   "outputs": [],
   "source": [
    "class Solution:\n",
    "    def isSameTree(self, p: Optional[TreeNode], q: Optional[TreeNode]) -> bool:\n",
    "        # Base case\n",
    "        if not p and not q:\n",
    "            return True\n",
    "        if not p or not q:\n",
    "            return False\n",
    "        if p.val != q.val:\n",
    "            return False\n",
    "        \n",
    "        # Recursion\n",
    "        return self.isSameTree(p.left, q.left) and self.isSameTree(p.right, q.right)"
   ]
  },
  {
   "cell_type": "markdown",
   "metadata": {},
   "source": [
    "C++"
   ]
  },
  {
   "cell_type": "code",
   "execution_count": null,
   "metadata": {},
   "outputs": [],
   "source": [
    "/**\n",
    " * Definition for a binary tree node.\n",
    " * struct TreeNode {\n",
    " *     int val;\n",
    " *     TreeNode *left;\n",
    " *     TreeNode *right;\n",
    " *     TreeNode() : val(0), left(nullptr), right(nullptr) {}\n",
    " *     TreeNode(int x) : val(x), left(nullptr), right(nullptr) {}\n",
    " *     TreeNode(int x, TreeNode *left, TreeNode *right) : val(x), left(left), right(right) {}\n",
    " * };\n",
    " */\n"
   ]
  },
  {
   "cell_type": "code",
   "execution_count": null,
   "metadata": {},
   "outputs": [],
   "source": [
    "class Solution {\n",
    "public:\n",
    "    bool isSameTree(TreeNode* p, TreeNode* q) {\n",
    "        if (p == nullptr && q == nullptr){\n",
    "            return true;\n",
    "        }\n",
    "        if (p == nullptr or q == nullptr){\n",
    "            return false;\n",
    "        }\n",
    "        if (p->val != q->val){\n",
    "            return false;\n",
    "        }\n",
    "        return isSameTree(p->left, q->left) && isSameTree(p->right, q->right);\n",
    "    }\n",
    "};"
   ]
  },
  {
   "cell_type": "markdown",
   "metadata": {},
   "source": [
    "## 101. Symmetric Tree (yeee)\n",
    "Given the root of a binary tree, check whether it is a mirror of itself (i.e., symmetric around its center).\n",
    "\n",
    "python"
   ]
  },
  {
   "cell_type": "code",
   "execution_count": null,
   "metadata": {},
   "outputs": [],
   "source": [
    "# Definition for a binary tree node.\n",
    "# class TreeNode:\n",
    "#     def __init__(self, val=0, left=None, right=None):\n",
    "#         self.val = val\n",
    "#         self.left = left\n",
    "#         self.right = right\n",
    "class Solution:\n",
    "    def is_subtree_symmetric(self, l, r):\n",
    "        if not l and not r:\n",
    "            return True\n",
    "        if not l or not r:\n",
    "            return False\n",
    "        if l.val != r.val:\n",
    "            return False\n",
    "        return self.is_subtree_symmetric(l.left, r.right) and self.is_subtree_symmetric(l.right, r.left)\n",
    "    \n",
    "    def isSymmetric(self, root: Optional[TreeNode]) -> bool:\n",
    "        if not root:\n",
    "            return True\n",
    "        return self.is_subtree_symmetric(root.left, root.right)\n",
    "        "
   ]
  },
  {
   "cell_type": "markdown",
   "metadata": {},
   "source": [
    "C++"
   ]
  },
  {
   "cell_type": "code",
   "execution_count": null,
   "metadata": {},
   "outputs": [],
   "source": [
    "/**\n",
    " * Definition for a binary tree node.\n",
    " * struct TreeNode {\n",
    " *     int val;\n",
    " *     TreeNode *left;\n",
    " *     TreeNode *right;\n",
    " *     TreeNode() : val(0), left(nullptr), right(nullptr) {}\n",
    " *     TreeNode(int x) : val(x), left(nullptr), right(nullptr) {}\n",
    " *     TreeNode(int x, TreeNode *left, TreeNode *right) : val(x), left(left), right(right) {}\n",
    " * };\n",
    " */\n",
    "class Solution {\n",
    "public:\n",
    "    bool is_subtree_symmetric(TreeNode* l, TreeNode* r){\n",
    "        if (l == nullptr && r == nullptr){\n",
    "            return true;\n",
    "        }\n",
    "        if (l == nullptr || r == nullptr){\n",
    "            return false;\n",
    "        }\n",
    "        if (l->val != r->val){\n",
    "            return false;\n",
    "        }\n",
    "        return is_subtree_symmetric(l->left, r->right) && is_subtree_symmetric(l->right, r->left);\n",
    "    }\n",
    "    bool isSymmetric(TreeNode* root) {\n",
    "        if (root == nullptr){\n",
    "            return true;\n",
    "        }\n",
    "        return is_subtree_symmetric(root->left, root->right);\n",
    "    }\n",
    "};"
   ]
  },
  {
   "cell_type": "markdown",
   "metadata": {},
   "source": [
    "## 104. Maximum Depth of Binary Tree\n",
    "Given the root of a binary tree, return its maximum depth.\n",
    "\n",
    "python"
   ]
  },
  {
   "cell_type": "code",
   "execution_count": null,
   "metadata": {},
   "outputs": [],
   "source": [
    "class Solution:\n",
    "    def maxDepth(self, root: Optional[TreeNode]) -> int:\n",
    "        # Base case\n",
    "        if not root:\n",
    "            return 0\n",
    "        left_depth = self.maxDepth(root.left)\n",
    "        right_depth = self.maxDepth(root.right)\n",
    "        # after the base case, simply consider that the function will give the correct result \n",
    "        # think about the max depth of the root is the max from left and right subtree plus 1\n",
    "        result = max(left_depth, right_depth) + 1\n",
    "        return result"
   ]
  },
  {
   "cell_type": "markdown",
   "metadata": {},
   "source": [
    "C++"
   ]
  },
  {
   "cell_type": "code",
   "execution_count": null,
   "metadata": {},
   "outputs": [],
   "source": [
    "/**\n",
    " * Definition for a binary tree node.\n",
    " * struct TreeNode {\n",
    " *     int val;\n",
    " *     TreeNode *left;\n",
    " *     TreeNode *right;\n",
    " *     TreeNode() : val(0), left(nullptr), right(nullptr) {}\n",
    " *     TreeNode(int x) : val(x), left(nullptr), right(nullptr) {}\n",
    " *     TreeNode(int x, TreeNode *left, TreeNode *right) : val(x), left(left), right(right) {}\n",
    " * };\n",
    " */\n",
    "class Solution {\n",
    "public:\n",
    "    int maxDepth(TreeNode* root) {\n",
    "        if (root == nullptr){\n",
    "            return 0;\n",
    "        }\n",
    "        int left_depth = maxDepth(root->left);\n",
    "        int right_depth = maxDepth(root->right);\n",
    "        int result = max(left_depth, right_depth) + 1;\n",
    "        return result;\n",
    "    }\n",
    "};"
   ]
  },
  {
   "cell_type": "markdown",
   "metadata": {},
   "source": [
    "## 108. Convert Sorted Array to Binary Search Tree\n",
    "Given an integer array nums where the elements are sorted in ascending order, convert it to a height-balanced binary search tree.\n",
    "\n",
    "python"
   ]
  },
  {
   "cell_type": "code",
   "execution_count": null,
   "metadata": {},
   "outputs": [],
   "source": [
    "# Definition for a binary tree node.\n",
    "class TreeNode:\n",
    "    def __init__(self, val=0, left=None, right=None):\n",
    "        self.val = val\n",
    "        self.left = left\n",
    "        self.right = right"
   ]
  },
  {
   "cell_type": "code",
   "execution_count": null,
   "metadata": {},
   "outputs": [],
   "source": [
    "class Solution:\n",
    "    def sortedArrayToBST(self, nums: List[int]) -> Optional[TreeNode]:\n",
    "        if not nums:\n",
    "            return None\n",
    "        mid_index = len(nums) // 2\n",
    "        left_node = self.sortedArrayToBST(nums[0:mid_index])\n",
    "        right_node = self.sortedArrayToBST(nums[mid_index + 1:])\n",
    "        root = TreeNode(nums[mid_index], left=left_node, right=right_node)\n",
    "        return root\n"
   ]
  },
  {
   "cell_type": "markdown",
   "metadata": {},
   "source": [
    "C++ do it later since vector is more conplicated to slice."
   ]
  },
  {
   "cell_type": "code",
   "execution_count": null,
   "metadata": {},
   "outputs": [],
   "source": [
    "/**\n",
    " * Definition for a binary tree node.\n",
    " * struct TreeNode {\n",
    " *     int val;\n",
    " *     TreeNode *left;\n",
    " *     TreeNode *right;\n",
    " *     TreeNode() : val(0), left(nullptr), right(nullptr) {}\n",
    " *     TreeNode(int x) : val(x), left(nullptr), right(nullptr) {}\n",
    " *     TreeNode(int x, TreeNode *left, TreeNode *right) : val(x), left(left), right(right) {}\n",
    " * };\n",
    " */\n",
    "class Solution {\n",
    "public:\n",
    "    TreeNode* sortedArrayToBST(vector<int>& nums) {\n",
    "        if (nums.size() == 0){\n",
    "            return;\n",
    "        }\n",
    "        int mid_index = nums.size() / 2;\n",
    "        TreeNode* left_node = sortedArrayToBST(nums[])\n",
    "    }\n",
    "};"
   ]
  },
  {
   "cell_type": "markdown",
   "metadata": {},
   "source": [
    "### Jan 16 \n",
    "## 110. Balanced Binary Tree\n",
    "Given a binary tree, determine if it is hight-balanced\n",
    "\n",
    "Topic: Recursion, DFS\n",
    "\n",
    "python"
   ]
  },
  {
   "cell_type": "code",
   "execution_count": null,
   "metadata": {},
   "outputs": [],
   "source": [
    "# Definition for a binary tree node.\n",
    "# class TreeNode:\n",
    "#     def __init__(self, val=0, left=None, right=None):\n",
    "#         self.val = val\n",
    "#         self.left = left\n",
    "#         self.right = right\n",
    "class Solution:\n",
    "    def height(self, root:Optional[TreeNode]):\n",
    "        # base case\n",
    "        if not root:\n",
    "            return 0\n",
    "        # now we assume the function will give the height given the root node\n",
    "        # and we want to find the height the left subtree and right subtree and \n",
    "        # compare them to see if the difference is more than 1\n",
    "        # if more than 1, return -1 as a sign of unbalance, otherwise return the \n",
    "        # actual height of the tree given a root node, like we did before\n",
    "        left_height = self.height(root.left)\n",
    "        right_height = self.height(root.right)\n",
    "\n",
    "        # returning -1 means the tree (left or right subtree) is unbalanced\n",
    "        diff = abs(left_height - right_height)\n",
    "        if diff > 1:\n",
    "            return -1\n",
    "        \n",
    "        # if the left subtree or right subtree is already unbalance, the parent tree is trivally unbalanced\n",
    "        if left_height == -1 or right_height == -1:\n",
    "            return -1\n",
    "\n",
    "        return max(left_height, right_height) + 1\n",
    "\n",
    "\n",
    "    def isBalanced(self, root: Optional[TreeNode]) -> bool:\n",
    "        return self.height(root) != -1\n",
    "            "
   ]
  },
  {
   "cell_type": "markdown",
   "metadata": {},
   "source": [
    "C++"
   ]
  },
  {
   "cell_type": "code",
   "execution_count": null,
   "metadata": {
    "vscode": {
     "languageId": "cpp"
    }
   },
   "outputs": [],
   "source": [
    "class Solution {\n",
    "public:\n",
    "    int height (TreeNode* root){\n",
    "        if (root == nullptr){\n",
    "            return 0;\n",
    "        }\n",
    "        int left_height = height(root->left);\n",
    "        int right_height = height(root->right);\n",
    "\n",
    "        int diff = left_height - right_height;\n",
    "        if (diff < 0){\n",
    "            diff = -1 * diff;\n",
    "        }\n",
    "        if (diff > 1){\n",
    "            return -1;\n",
    "        }\n",
    "        if (left_height == -1 || right_height == -1){\n",
    "            return -1;\n",
    "        }\n",
    "\n",
    "        return max(left_height, right_height) + 1;\n",
    "    }\n",
    "    bool isBalanced(TreeNode* root) {\n",
    "        return height(root) != -1;\n",
    "    }\n",
    "};"
   ]
  },
  {
   "cell_type": "markdown",
   "metadata": {},
   "source": []
  }
 ],
 "metadata": {
  "kernelspec": {
   "display_name": "Python 3",
   "language": "python",
   "name": "python3"
  },
  "language_info": {
   "codemirror_mode": {
    "name": "ipython",
    "version": 3
   },
   "file_extension": ".py",
   "mimetype": "text/x-python",
   "name": "python",
   "nbconvert_exporter": "python",
   "pygments_lexer": "ipython3",
   "version": "3.11.5"
  }
 },
 "nbformat": 4,
 "nbformat_minor": 2
}
